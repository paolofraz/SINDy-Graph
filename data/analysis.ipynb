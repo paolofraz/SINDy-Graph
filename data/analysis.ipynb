{
 "cells": [
  {
   "cell_type": "code",
   "execution_count": 1,
   "id": "initial_id",
   "metadata": {
    "collapsed": true,
    "ExecuteTime": {
     "end_time": "2024-01-29T16:36:07.785031500Z",
     "start_time": "2024-01-29T16:36:07.255030Z"
    }
   },
   "outputs": [
    {
     "name": "stdout",
     "output_type": "stream",
     "text": [
      "Graph with 1000 nodes and 2573 edges\n"
     ]
    }
   ],
   "source": [
    "import networkx as nx\n",
    "\n",
    "G = nx.read_edgelist('net1.txt')\n",
    "print(G)"
   ]
  },
  {
   "cell_type": "code",
   "outputs": [
    {
     "name": "stdout",
     "output_type": "stream",
     "text": [
      "0.004734920634920635\n"
     ]
    }
   ],
   "source": [
    "estimated_p = nx.average_clustering(G)\n",
    "print(estimated_p)"
   ],
   "metadata": {
    "collapsed": false,
    "ExecuteTime": {
     "end_time": "2024-01-29T16:37:45.469496900Z",
     "start_time": "2024-01-29T16:37:45.419496900Z"
    }
   },
   "id": "a826b6efb37548d6",
   "execution_count": 3
  },
  {
   "cell_type": "code",
   "outputs": [
    {
     "name": "stdout",
     "output_type": "stream",
     "text": [
      "0.004429609279609277\n"
     ]
    }
   ],
   "source": [
    "G2 = nx.erdos_renyi_graph(1000, 0.005)\n",
    "print(nx.average_clustering(G2))"
   ],
   "metadata": {
    "collapsed": false,
    "ExecuteTime": {
     "end_time": "2024-01-29T16:38:37.605729800Z",
     "start_time": "2024-01-29T16:38:37.271731600Z"
    }
   },
   "id": "58e103d589e722a4",
   "execution_count": 4
  },
  {
   "cell_type": "code",
   "outputs": [],
   "source": [],
   "metadata": {
    "collapsed": false
   },
   "id": "6e3e05fbe05ee8e6"
  }
 ],
 "metadata": {
  "kernelspec": {
   "display_name": "Python 3",
   "language": "python",
   "name": "python3"
  },
  "language_info": {
   "codemirror_mode": {
    "name": "ipython",
    "version": 2
   },
   "file_extension": ".py",
   "mimetype": "text/x-python",
   "name": "python",
   "nbconvert_exporter": "python",
   "pygments_lexer": "ipython2",
   "version": "2.7.6"
  }
 },
 "nbformat": 4,
 "nbformat_minor": 5
}
